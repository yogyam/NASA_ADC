{
 "cells": [
  {
   "cell_type": "code",
   "execution_count": 1,
   "metadata": {},
   "outputs": [],
   "source": [
    "%matplotlib inline\n",
    "from pyvista import set_plot_theme\n",
    "set_plot_theme('document')"
   ]
  },
  {
   "cell_type": "markdown",
   "metadata": {},
   "source": [
    "Terrain Following Mesh {#terrain_following_mesh_example}\n",
    "======================\n",
    "\n",
    "Use a topographic surface to create a 3D terrain-following mesh.\n",
    "\n",
    "Terrain following meshes are common in the environmental sciences, for\n",
    "instance in hydrological modelling (see [Maxwell\n",
    "2013](https://www.sciencedirect.com/science/article/abs/pii/S0309170812002564)\n",
    "and [ParFlow](https://parflow.org)).\n",
    "\n",
    "In this example, we demonstrate a simple way to make a 3D grid/mesh that\n",
    "follows a given topographic surface. In this example, it is important to\n",
    "note that the given digital elevation model (DEM) is structured (gridded\n",
    "and not triangulated): this is common for DEMs.\n"
   ]
  },
  {
   "cell_type": "code",
   "execution_count": 2,
   "metadata": {},
   "outputs": [
    {
     "name": "stderr",
     "output_type": "stream",
     "text": [
      "C:\\ProgramData\\anaconda3\\Lib\\site-packages\\paramiko\\transport.py:219: CryptographyDeprecationWarning: Blowfish has been deprecated\n",
      "  \"class\": algorithms.Blowfish,\n"
     ]
    }
   ],
   "source": [
    "import numpy as np\n",
    "\n",
    "import pyvista as pv\n",
    "from pyvista import examples"
   ]
  },
  {
   "cell_type": "markdown",
   "metadata": {},
   "source": [
    "Download a gridded topography surface (DEM)\n"
   ]
  },
  {
   "cell_type": "code",
   "execution_count": 3,
   "metadata": {},
   "outputs": [
    {
     "data": {
      "text/html": [
       "<table style='width: 100%;'><tr><th>Header</th><th>Data Arrays</th></tr><tr><td>\n",
       "<table style='width: 100%;'>\n",
       "<tr><th>ImageData</th><th>Information</th></tr>\n",
       "<tr><td>N Cells</td><td>1677401</td></tr>\n",
       "<tr><td>N Points</td><td>1680000</td></tr>\n",
       "<tr><td>X Bounds</td><td>1.810e+06, 1.831e+06</td></tr>\n",
       "<tr><td>Y Bounds</td><td>5.640e+06, 5.658e+06</td></tr>\n",
       "<tr><td>Z Bounds</td><td>0.000e+00, 0.000e+00</td></tr>\n",
       "<tr><td>Dimensions</td><td>1400, 1200, 1</td></tr>\n",
       "<tr><td>Spacing</td><td>1.500e+01, 1.500e+01, 0.000e+00</td></tr>\n",
       "<tr><td>N Arrays</td><td>1</td></tr>\n",
       "</table>\n",
       "\n",
       "</td><td>\n",
       "<table style='width: 100%;'>\n",
       "<tr><th>Name</th><th>Field</th><th>Type</th><th>N Comp</th><th>Min</th><th>Max</th></tr>\n",
       "<tr><td><b>scalar1of1</b></td><td>Points</td><td>float64</td><td>1</td><td>7.339e+02</td><td>2.787e+03</td></tr>\n",
       "</table>\n",
       "\n",
       "</td></tr> </table>"
      ],
      "text/plain": [
       "ImageData (0x1680dd224a0)\n",
       "  N Cells:      1677401\n",
       "  N Points:     1680000\n",
       "  X Bounds:     1.810e+06, 1.831e+06\n",
       "  Y Bounds:     5.640e+06, 5.658e+06\n",
       "  Z Bounds:     0.000e+00, 0.000e+00\n",
       "  Dimensions:   1400, 1200, 1\n",
       "  Spacing:      1.500e+01, 1.500e+01, 0.000e+00\n",
       "  N Arrays:     1"
      ]
     },
     "execution_count": 3,
     "metadata": {},
     "output_type": "execute_result"
    }
   ],
   "source": [
    "dem = examples.download_crater_topo()\n",
    "dem"
   ]
  },
  {
   "cell_type": "markdown",
   "metadata": {},
   "source": [
    "Now let\\'s subsample and extract an area of interest to make this\n",
    "example simple (also the DEM we just load is pretty big). Since the DEM\n",
    "we loaded is a `pyvista.ImageData`{.interpreted-text role=\"class\"} mesh,\n",
    "we can use the\n",
    "`pyvista.ImageDataFilters.extract_subset`{.interpreted-text role=\"func\"}\n",
    "filter:\n"
   ]
  },
  {
   "cell_type": "code",
   "execution_count": null,
   "metadata": {},
   "outputs": [],
   "source": [
    "subset = dem.extract_subset((500, 900, 400, 800, 0, 0), (5, 5, 1))\n",
    "subset.plot(cpos=\"xy\")"
   ]
  },
  {
   "cell_type": "markdown",
   "metadata": {},
   "source": [
    "Now that we have a region of interest for our terrain following mesh,\n",
    "lets make a 3D surface of that DEM:\n"
   ]
  },
  {
   "cell_type": "code",
   "execution_count": null,
   "metadata": {},
   "outputs": [],
   "source": [
    "terrain = subset.warp_by_scalar()\n",
    "terrain"
   ]
  },
  {
   "cell_type": "code",
   "execution_count": null,
   "metadata": {},
   "outputs": [],
   "source": [
    "terrain.plot()"
   ]
  },
  {
   "cell_type": "markdown",
   "metadata": {},
   "source": [
    "And now we have a 3D structured surface of the terrain. We can now\n",
    "extend that structured surface into a 3D mesh to form a terrain\n",
    "following grid. To do this, we first our cell spacings in the\n",
    "z-direction (these start from the terrain surface). Then we repeat the\n",
    "XYZ structured coordinates of the terrain mesh and decrease each Z level\n",
    "by our Z cell spacing. Once we have those structured coordinates, we can\n",
    "create a `pyvista.StructuredGrid`{.interpreted-text role=\"class\"}.\n"
   ]
  },
  {
   "cell_type": "code",
   "execution_count": null,
   "metadata": {},
   "outputs": [],
   "source": [
    "z_cells = np.array([25] * 5 + [35] * 3 + [50] * 2 + [75, 100])\n",
    "\n",
    "xx = np.repeat(terrain.x, len(z_cells), axis=-1)\n",
    "yy = np.repeat(terrain.y, len(z_cells), axis=-1)\n",
    "zz = np.repeat(terrain.z, len(z_cells), axis=-1) - np.cumsum(z_cells).reshape((1, 1, -1))\n",
    "\n",
    "mesh = pv.StructuredGrid(xx, yy, zz)\n",
    "mesh[\"Elevation\"] = zz.ravel(order=\"F\")\n",
    "mesh"
   ]
  },
  {
   "cell_type": "code",
   "execution_count": null,
   "metadata": {},
   "outputs": [],
   "source": [
    "cpos = [\n",
    "    (1826736.796308761, 5655837.275274233, 4676.8405505181745),\n",
    "    (1821066.1790519988, 5649248.765538796, 943.0995128226014),\n",
    "    (-0.2797856225380979, -0.27966946337594883, 0.9184252809434081),\n",
    "]\n",
    "\n",
    "mesh.plot(show_edges=True, lighting=False, cpos=cpos)"
   ]
  }
 ],
 "metadata": {
  "kernelspec": {
   "display_name": "Python 3 (ipykernel)",
   "language": "python",
   "name": "python3"
  },
  "language_info": {
   "codemirror_mode": {
    "name": "ipython",
    "version": 3
   },
   "file_extension": ".py",
   "mimetype": "text/x-python",
   "name": "python",
   "nbconvert_exporter": "python",
   "pygments_lexer": "ipython3",
   "version": "3.11.5"
  }
 },
 "nbformat": 4,
 "nbformat_minor": 1
}
